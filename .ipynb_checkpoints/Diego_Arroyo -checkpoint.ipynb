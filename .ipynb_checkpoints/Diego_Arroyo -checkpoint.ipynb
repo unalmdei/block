{
 "cells": [
  {
   "cell_type": "markdown",
   "id": "0522fa91",
   "metadata": {},
   "source": [
    "# codigo \n"
   ]
  },
  {
   "cell_type": "code",
   "execution_count": 1,
   "id": "c6d477c4",
   "metadata": {},
   "outputs": [
    {
     "name": "stdout",
     "output_type": "stream",
     "text": [
      "La fuerza resultante es de 50 N\n"
     ]
    }
   ],
   "source": [
    "# Definir las variables\n",
    "masa = 10  # en kg\n",
    "aceleracion = 5  # en m/s^2\n",
    "\n",
    "# Calcular la fuerza resultante\n",
    "fuerza = masa * aceleracion\n",
    "\n",
    "# Imprimir el resultado\n",
    "print(\"La fuerza resultante es de\", fuerza, \"N\")\n"
   ]
  },
  {
   "cell_type": "code",
   "execution_count": null,
   "id": "74bfc64e",
   "metadata": {},
   "outputs": [],
   "source": []
  }
 ],
 "metadata": {
  "kernelspec": {
   "display_name": "Python 3 (ipykernel)",
   "language": "python",
   "name": "python3"
  },
  "language_info": {
   "codemirror_mode": {
    "name": "ipython",
    "version": 3
   },
   "file_extension": ".py",
   "mimetype": "text/x-python",
   "name": "python",
   "nbconvert_exporter": "python",
   "pygments_lexer": "ipython3",
   "version": "3.10.9"
  }
 },
 "nbformat": 4,
 "nbformat_minor": 5
}

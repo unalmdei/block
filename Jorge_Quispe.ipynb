{
 "cells": [
  {
   "cell_type": "markdown",
   "id": "31bb57ed",
   "metadata": {},
   "source": [
    "# Archivo de Prueba\n",
    "\n",
    "### Este es un archivo de prueba\n",
    "\n",
    "<b>...</b>"
   ]
  }
 ],
 "metadata": {
  "kernelspec": {
   "display_name": "Python 3 (ipykernel)",
   "language": "python",
   "name": "python3"
  },
  "language_info": {
   "codemirror_mode": {
    "name": "ipython",
    "version": 3
   },
   "file_extension": ".py",
   "mimetype": "text/x-python",
   "name": "python",
   "nbconvert_exporter": "python",
   "pygments_lexer": "ipython3",
   "version": "3.10.9"
  }
 },
 "nbformat": 4,
 "nbformat_minor": 5
}

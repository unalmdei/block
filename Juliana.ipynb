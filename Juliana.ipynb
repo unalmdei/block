{
 "cells": [
  {
   "cell_type": "markdown",
   "id": "f0b1e971",
   "metadata": {},
   "source": [
    "# Subiendo un archivo"
   ]
  },
  {
   "cell_type": "code",
   "execution_count": 3,
   "id": "4281e410",
   "metadata": {},
   "outputs": [
    {
     "name": "stdout",
     "output_type": "stream",
     "text": [
      "20\n"
     ]
    }
   ],
   "source": [
    "x = 20\n",
    "print(x)"
   ]
  },
  {
   "cell_type": "code",
   "execution_count": 4,
   "id": "52b97da0",
   "metadata": {},
   "outputs": [
    {
     "name": "stdout",
     "output_type": "stream",
     "text": [
      "Mi nota en LP2 es 20\n"
     ]
    }
   ],
   "source": [
    "print(\"Mi nota en LP2 es\",x)"
   ]
  },
  {
   "cell_type": "markdown",
   "id": "bb5d9c77",
   "metadata": {},
   "source": [
    "nuevo commit"
   ]
  }
 ],
 "metadata": {
  "kernelspec": {
   "display_name": "Python 3 (ipykernel)",
   "language": "python",
   "name": "python3"
  },
  "language_info": {
   "codemirror_mode": {
    "name": "ipython",
    "version": 3
   },
   "file_extension": ".py",
   "mimetype": "text/x-python",
   "name": "python",
   "nbconvert_exporter": "python",
   "pygments_lexer": "ipython3",
   "version": "3.9.13"
  }
 },
 "nbformat": 4,
 "nbformat_minor": 5
}
